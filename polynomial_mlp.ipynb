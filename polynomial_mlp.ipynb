{
  "cells": [
    {
      "cell_type": "markdown",
      "metadata": {
        "id": "view-in-github",
        "colab_type": "text"
      },
      "source": [
        "<a href=\"https://colab.research.google.com/github/Mohon127/Artificial-Intelligence-Lab/blob/main/polynomial_mlp.ipynb\" target=\"_parent\"><img src=\"https://colab.research.google.com/assets/colab-badge.svg\" alt=\"Open In Colab\"/></a>"
      ]
    },
    {
      "cell_type": "code",
      "execution_count": 10,
      "metadata": {
        "colab": {
          "base_uri": "https://localhost:8080/",
          "height": 1000
        },
        "id": "yC2b4DctggaV",
        "outputId": "c7ae6ce8-4d01-4166-c299-f484a9ec841e"
      },
      "outputs": [
        {
          "output_type": "display_data",
          "data": {
            "text/plain": [
              "\u001b[1mModel: \"functional_8\"\u001b[0m\n"
            ],
            "text/html": [
              "<pre style=\"white-space:pre;overflow-x:auto;line-height:normal;font-family:Menlo,'DejaVu Sans Mono',consolas,'Courier New',monospace\"><span style=\"font-weight: bold\">Model: \"functional_8\"</span>\n",
              "</pre>\n"
            ]
          },
          "metadata": {}
        },
        {
          "output_type": "display_data",
          "data": {
            "text/plain": [
              "┏━━━━━━━━━━━━━━━━━━━━━━━━━━━━━┳━━━━━━━━━━━━━━━━━━━━━━━┳━━━━━━━━━━━━┳━━━━━━━┓\n",
              "┃\u001b[1m \u001b[0m\u001b[1mLayer (type)               \u001b[0m\u001b[1m \u001b[0m┃\u001b[1m \u001b[0m\u001b[1mOutput Shape         \u001b[0m\u001b[1m \u001b[0m┃\u001b[1m \u001b[0m\u001b[1m   Param #\u001b[0m\u001b[1m \u001b[0m┃\u001b[1m \u001b[0m\u001b[1mTrai…\u001b[0m\u001b[1m \u001b[0m┃\n",
              "┡━━━━━━━━━━━━━━━━━━━━━━━━━━━━━╇━━━━━━━━━━━━━━━━━━━━━━━╇━━━━━━━━━━━━╇━━━━━━━┩\n",
              "│ input_layer_9 (\u001b[38;5;33mInputLayer\u001b[0m)  │ (\u001b[38;5;45mNone\u001b[0m, \u001b[38;5;34m1\u001b[0m)             │          \u001b[38;5;34m0\u001b[0m │   \u001b[1m-\u001b[0m   │\n",
              "├─────────────────────────────┼───────────────────────┼────────────┼───────┤\n",
              "│ dense_42 (\u001b[38;5;33mDense\u001b[0m)            │ (\u001b[38;5;45mNone\u001b[0m, \u001b[38;5;34m8\u001b[0m)             │         \u001b[38;5;34m16\u001b[0m │   \u001b[1;38;5;34mY\u001b[0m   │\n",
              "├─────────────────────────────┼───────────────────────┼────────────┼───────┤\n",
              "│ dense_43 (\u001b[38;5;33mDense\u001b[0m)            │ (\u001b[38;5;45mNone\u001b[0m, \u001b[38;5;34m16\u001b[0m)            │        \u001b[38;5;34m144\u001b[0m │   \u001b[1;38;5;34mY\u001b[0m   │\n",
              "├─────────────────────────────┼───────────────────────┼────────────┼───────┤\n",
              "│ dense_44 (\u001b[38;5;33mDense\u001b[0m)            │ (\u001b[38;5;45mNone\u001b[0m, \u001b[38;5;34m64\u001b[0m)            │      \u001b[38;5;34m1,088\u001b[0m │   \u001b[1;38;5;34mY\u001b[0m   │\n",
              "├─────────────────────────────┼───────────────────────┼────────────┼───────┤\n",
              "│ dense_45 (\u001b[38;5;33mDense\u001b[0m)            │ (\u001b[38;5;45mNone\u001b[0m, \u001b[38;5;34m16\u001b[0m)            │      \u001b[38;5;34m1,040\u001b[0m │   \u001b[1;38;5;34mY\u001b[0m   │\n",
              "├─────────────────────────────┼───────────────────────┼────────────┼───────┤\n",
              "│ dense_46 (\u001b[38;5;33mDense\u001b[0m)            │ (\u001b[38;5;45mNone\u001b[0m, \u001b[38;5;34m1\u001b[0m)             │         \u001b[38;5;34m17\u001b[0m │   \u001b[1;38;5;34mY\u001b[0m   │\n",
              "└─────────────────────────────┴───────────────────────┴────────────┴───────┘\n"
            ],
            "text/html": [
              "<pre style=\"white-space:pre;overflow-x:auto;line-height:normal;font-family:Menlo,'DejaVu Sans Mono',consolas,'Courier New',monospace\">┏━━━━━━━━━━━━━━━━━━━━━━━━━━━━━┳━━━━━━━━━━━━━━━━━━━━━━━┳━━━━━━━━━━━━┳━━━━━━━┓\n",
              "┃<span style=\"font-weight: bold\"> Layer (type)                </span>┃<span style=\"font-weight: bold\"> Output Shape          </span>┃<span style=\"font-weight: bold\">    Param # </span>┃<span style=\"font-weight: bold\"> Trai… </span>┃\n",
              "┡━━━━━━━━━━━━━━━━━━━━━━━━━━━━━╇━━━━━━━━━━━━━━━━━━━━━━━╇━━━━━━━━━━━━╇━━━━━━━┩\n",
              "│ input_layer_9 (<span style=\"color: #0087ff; text-decoration-color: #0087ff\">InputLayer</span>)  │ (<span style=\"color: #00d7ff; text-decoration-color: #00d7ff\">None</span>, <span style=\"color: #00af00; text-decoration-color: #00af00\">1</span>)             │          <span style=\"color: #00af00; text-decoration-color: #00af00\">0</span> │   <span style=\"font-weight: bold\">-</span>   │\n",
              "├─────────────────────────────┼───────────────────────┼────────────┼───────┤\n",
              "│ dense_42 (<span style=\"color: #0087ff; text-decoration-color: #0087ff\">Dense</span>)            │ (<span style=\"color: #00d7ff; text-decoration-color: #00d7ff\">None</span>, <span style=\"color: #00af00; text-decoration-color: #00af00\">8</span>)             │         <span style=\"color: #00af00; text-decoration-color: #00af00\">16</span> │   <span style=\"color: #00af00; text-decoration-color: #00af00; font-weight: bold\">Y</span>   │\n",
              "├─────────────────────────────┼───────────────────────┼────────────┼───────┤\n",
              "│ dense_43 (<span style=\"color: #0087ff; text-decoration-color: #0087ff\">Dense</span>)            │ (<span style=\"color: #00d7ff; text-decoration-color: #00d7ff\">None</span>, <span style=\"color: #00af00; text-decoration-color: #00af00\">16</span>)            │        <span style=\"color: #00af00; text-decoration-color: #00af00\">144</span> │   <span style=\"color: #00af00; text-decoration-color: #00af00; font-weight: bold\">Y</span>   │\n",
              "├─────────────────────────────┼───────────────────────┼────────────┼───────┤\n",
              "│ dense_44 (<span style=\"color: #0087ff; text-decoration-color: #0087ff\">Dense</span>)            │ (<span style=\"color: #00d7ff; text-decoration-color: #00d7ff\">None</span>, <span style=\"color: #00af00; text-decoration-color: #00af00\">64</span>)            │      <span style=\"color: #00af00; text-decoration-color: #00af00\">1,088</span> │   <span style=\"color: #00af00; text-decoration-color: #00af00; font-weight: bold\">Y</span>   │\n",
              "├─────────────────────────────┼───────────────────────┼────────────┼───────┤\n",
              "│ dense_45 (<span style=\"color: #0087ff; text-decoration-color: #0087ff\">Dense</span>)            │ (<span style=\"color: #00d7ff; text-decoration-color: #00d7ff\">None</span>, <span style=\"color: #00af00; text-decoration-color: #00af00\">16</span>)            │      <span style=\"color: #00af00; text-decoration-color: #00af00\">1,040</span> │   <span style=\"color: #00af00; text-decoration-color: #00af00; font-weight: bold\">Y</span>   │\n",
              "├─────────────────────────────┼───────────────────────┼────────────┼───────┤\n",
              "│ dense_46 (<span style=\"color: #0087ff; text-decoration-color: #0087ff\">Dense</span>)            │ (<span style=\"color: #00d7ff; text-decoration-color: #00d7ff\">None</span>, <span style=\"color: #00af00; text-decoration-color: #00af00\">1</span>)             │         <span style=\"color: #00af00; text-decoration-color: #00af00\">17</span> │   <span style=\"color: #00af00; text-decoration-color: #00af00; font-weight: bold\">Y</span>   │\n",
              "└─────────────────────────────┴───────────────────────┴────────────┴───────┘\n",
              "</pre>\n"
            ]
          },
          "metadata": {}
        },
        {
          "output_type": "display_data",
          "data": {
            "text/plain": [
              "\u001b[1m Total params: \u001b[0m\u001b[38;5;34m2,305\u001b[0m (9.00 KB)\n"
            ],
            "text/html": [
              "<pre style=\"white-space:pre;overflow-x:auto;line-height:normal;font-family:Menlo,'DejaVu Sans Mono',consolas,'Courier New',monospace\"><span style=\"font-weight: bold\"> Total params: </span><span style=\"color: #00af00; text-decoration-color: #00af00\">2,305</span> (9.00 KB)\n",
              "</pre>\n"
            ]
          },
          "metadata": {}
        },
        {
          "output_type": "display_data",
          "data": {
            "text/plain": [
              "\u001b[1m Trainable params: \u001b[0m\u001b[38;5;34m2,305\u001b[0m (9.00 KB)\n"
            ],
            "text/html": [
              "<pre style=\"white-space:pre;overflow-x:auto;line-height:normal;font-family:Menlo,'DejaVu Sans Mono',consolas,'Courier New',monospace\"><span style=\"font-weight: bold\"> Trainable params: </span><span style=\"color: #00af00; text-decoration-color: #00af00\">2,305</span> (9.00 KB)\n",
              "</pre>\n"
            ]
          },
          "metadata": {}
        },
        {
          "output_type": "display_data",
          "data": {
            "text/plain": [
              "\u001b[1m Non-trainable params: \u001b[0m\u001b[38;5;34m0\u001b[0m (0.00 B)\n"
            ],
            "text/html": [
              "<pre style=\"white-space:pre;overflow-x:auto;line-height:normal;font-family:Menlo,'DejaVu Sans Mono',consolas,'Courier New',monospace\"><span style=\"font-weight: bold\"> Non-trainable params: </span><span style=\"color: #00af00; text-decoration-color: #00af00\">0</span> (0.00 B)\n",
              "</pre>\n"
            ]
          },
          "metadata": {}
        },
        {
          "output_type": "stream",
          "name": "stdout",
          "text": [
            "(10000,) 10000\n",
            "total_n: 10000, train_n: 7000, val_n: 1000, test_n: 2000\n",
            "Epoch 1/30\n",
            "\u001b[1m219/219\u001b[0m \u001b[32m━━━━━━━━━━━━━━━━━━━━\u001b[0m\u001b[37m\u001b[0m \u001b[1m2s\u001b[0m 3ms/step - loss: 43446.4883 - mae: 145.1973 - val_loss: 4136.2129 - val_mae: 57.4153\n",
            "Epoch 2/30\n",
            "\u001b[1m219/219\u001b[0m \u001b[32m━━━━━━━━━━━━━━━━━━━━\u001b[0m\u001b[37m\u001b[0m \u001b[1m1s\u001b[0m 2ms/step - loss: 3568.6816 - mae: 52.9765 - val_loss: 2167.9548 - val_mae: 40.2785\n",
            "Epoch 3/30\n",
            "\u001b[1m219/219\u001b[0m \u001b[32m━━━━━━━━━━━━━━━━━━━━\u001b[0m\u001b[37m\u001b[0m \u001b[1m1s\u001b[0m 2ms/step - loss: 1693.6377 - mae: 34.3900 - val_loss: 681.5887 - val_mae: 21.2233\n",
            "Epoch 4/30\n",
            "\u001b[1m219/219\u001b[0m \u001b[32m━━━━━━━━━━━━━━━━━━━━\u001b[0m\u001b[37m\u001b[0m \u001b[1m1s\u001b[0m 3ms/step - loss: 560.3153 - mae: 19.0461 - val_loss: 198.1098 - val_mae: 10.7908\n",
            "Epoch 5/30\n",
            "\u001b[1m219/219\u001b[0m \u001b[32m━━━━━━━━━━━━━━━━━━━━\u001b[0m\u001b[37m\u001b[0m \u001b[1m1s\u001b[0m 3ms/step - loss: 159.6984 - mae: 9.2467 - val_loss: 72.7556 - val_mae: 5.6875\n",
            "Epoch 6/30\n",
            "\u001b[1m219/219\u001b[0m \u001b[32m━━━━━━━━━━━━━━━━━━━━\u001b[0m\u001b[37m\u001b[0m \u001b[1m1s\u001b[0m 2ms/step - loss: 63.5189 - mae: 5.6581 - val_loss: 31.4196 - val_mae: 3.7479\n",
            "Epoch 7/30\n",
            "\u001b[1m219/219\u001b[0m \u001b[32m━━━━━━━━━━━━━━━━━━━━\u001b[0m\u001b[37m\u001b[0m \u001b[1m1s\u001b[0m 2ms/step - loss: 29.3867 - mae: 3.7782 - val_loss: 16.9234 - val_mae: 2.6946\n",
            "Epoch 8/30\n",
            "\u001b[1m219/219\u001b[0m \u001b[32m━━━━━━━━━━━━━━━━━━━━\u001b[0m\u001b[37m\u001b[0m \u001b[1m1s\u001b[0m 4ms/step - loss: 18.0447 - mae: 2.9569 - val_loss: 11.4979 - val_mae: 2.4739\n",
            "Epoch 9/30\n",
            "\u001b[1m219/219\u001b[0m \u001b[32m━━━━━━━━━━━━━━━━━━━━\u001b[0m\u001b[37m\u001b[0m \u001b[1m1s\u001b[0m 4ms/step - loss: 10.7253 - mae: 2.2689 - val_loss: 11.9371 - val_mae: 2.7059\n",
            "Epoch 10/30\n",
            "\u001b[1m219/219\u001b[0m \u001b[32m━━━━━━━━━━━━━━━━━━━━\u001b[0m\u001b[37m\u001b[0m \u001b[1m1s\u001b[0m 3ms/step - loss: 8.6395 - mae: 2.1205 - val_loss: 5.9568 - val_mae: 1.7595\n",
            "Epoch 11/30\n",
            "\u001b[1m219/219\u001b[0m \u001b[32m━━━━━━━━━━━━━━━━━━━━\u001b[0m\u001b[37m\u001b[0m \u001b[1m1s\u001b[0m 2ms/step - loss: 7.0290 - mae: 1.9154 - val_loss: 5.1916 - val_mae: 1.6118\n",
            "Epoch 12/30\n",
            "\u001b[1m219/219\u001b[0m \u001b[32m━━━━━━━━━━━━━━━━━━━━\u001b[0m\u001b[37m\u001b[0m \u001b[1m1s\u001b[0m 2ms/step - loss: 6.1659 - mae: 1.7991 - val_loss: 6.2692 - val_mae: 1.7800\n",
            "Epoch 13/30\n",
            "\u001b[1m219/219\u001b[0m \u001b[32m━━━━━━━━━━━━━━━━━━━━\u001b[0m\u001b[37m\u001b[0m \u001b[1m1s\u001b[0m 2ms/step - loss: 4.3162 - mae: 1.4936 - val_loss: 4.1577 - val_mae: 1.5957\n",
            "Epoch 14/30\n",
            "\u001b[1m219/219\u001b[0m \u001b[32m━━━━━━━━━━━━━━━━━━━━\u001b[0m\u001b[37m\u001b[0m \u001b[1m1s\u001b[0m 2ms/step - loss: 4.1858 - mae: 1.4841 - val_loss: 3.1376 - val_mae: 1.3482\n",
            "Epoch 15/30\n",
            "\u001b[1m219/219\u001b[0m \u001b[32m━━━━━━━━━━━━━━━━━━━━\u001b[0m\u001b[37m\u001b[0m \u001b[1m1s\u001b[0m 2ms/step - loss: 4.0314 - mae: 1.4741 - val_loss: 3.2582 - val_mae: 1.3485\n",
            "Epoch 16/30\n",
            "\u001b[1m219/219\u001b[0m \u001b[32m━━━━━━━━━━━━━━━━━━━━\u001b[0m\u001b[37m\u001b[0m \u001b[1m1s\u001b[0m 2ms/step - loss: 3.9215 - mae: 1.4589 - val_loss: 6.2481 - val_mae: 1.9728\n",
            "Epoch 17/30\n",
            "\u001b[1m219/219\u001b[0m \u001b[32m━━━━━━━━━━━━━━━━━━━━\u001b[0m\u001b[37m\u001b[0m \u001b[1m1s\u001b[0m 2ms/step - loss: 4.1623 - mae: 1.4908 - val_loss: 2.1344 - val_mae: 0.9933\n",
            "Epoch 18/30\n",
            "\u001b[1m219/219\u001b[0m \u001b[32m━━━━━━━━━━━━━━━━━━━━\u001b[0m\u001b[37m\u001b[0m \u001b[1m1s\u001b[0m 2ms/step - loss: 3.0514 - mae: 1.2607 - val_loss: 9.7800 - val_mae: 2.3411\n",
            "Epoch 19/30\n",
            "\u001b[1m219/219\u001b[0m \u001b[32m━━━━━━━━━━━━━━━━━━━━\u001b[0m\u001b[37m\u001b[0m \u001b[1m1s\u001b[0m 2ms/step - loss: 4.1511 - mae: 1.4769 - val_loss: 2.7407 - val_mae: 1.1149\n",
            "Epoch 20/30\n",
            "\u001b[1m219/219\u001b[0m \u001b[32m━━━━━━━━━━━━━━━━━━━━\u001b[0m\u001b[37m\u001b[0m \u001b[1m1s\u001b[0m 2ms/step - loss: 3.1293 - mae: 1.2901 - val_loss: 8.3081 - val_mae: 2.2324\n",
            "Epoch 21/30\n",
            "\u001b[1m219/219\u001b[0m \u001b[32m━━━━━━━━━━━━━━━━━━━━\u001b[0m\u001b[37m\u001b[0m \u001b[1m1s\u001b[0m 2ms/step - loss: 3.3153 - mae: 1.3132 - val_loss: 3.7680 - val_mae: 1.4216\n",
            "Epoch 22/30\n",
            "\u001b[1m219/219\u001b[0m \u001b[32m━━━━━━━━━━━━━━━━━━━━\u001b[0m\u001b[37m\u001b[0m \u001b[1m1s\u001b[0m 2ms/step - loss: 3.1509 - mae: 1.2874 - val_loss: 2.7219 - val_mae: 1.0605\n",
            "Epoch 23/30\n",
            "\u001b[1m219/219\u001b[0m \u001b[32m━━━━━━━━━━━━━━━━━━━━\u001b[0m\u001b[37m\u001b[0m \u001b[1m1s\u001b[0m 2ms/step - loss: 2.7410 - mae: 1.2142 - val_loss: 1.7383 - val_mae: 1.0486\n",
            "Epoch 24/30\n",
            "\u001b[1m219/219\u001b[0m \u001b[32m━━━━━━━━━━━━━━━━━━━━\u001b[0m\u001b[37m\u001b[0m \u001b[1m1s\u001b[0m 2ms/step - loss: 2.4659 - mae: 1.1415 - val_loss: 2.3110 - val_mae: 1.2094\n",
            "Epoch 25/30\n",
            "\u001b[1m219/219\u001b[0m \u001b[32m━━━━━━━━━━━━━━━━━━━━\u001b[0m\u001b[37m\u001b[0m \u001b[1m1s\u001b[0m 2ms/step - loss: 3.1199 - mae: 1.2761 - val_loss: 1.7177 - val_mae: 1.0804\n",
            "Epoch 26/30\n",
            "\u001b[1m219/219\u001b[0m \u001b[32m━━━━━━━━━━━━━━━━━━━━\u001b[0m\u001b[37m\u001b[0m \u001b[1m1s\u001b[0m 2ms/step - loss: 2.6171 - mae: 1.1747 - val_loss: 3.0855 - val_mae: 1.3747\n",
            "Epoch 27/30\n",
            "\u001b[1m219/219\u001b[0m \u001b[32m━━━━━━━━━━━━━━━━━━━━\u001b[0m\u001b[37m\u001b[0m \u001b[1m1s\u001b[0m 4ms/step - loss: 2.4622 - mae: 1.1360 - val_loss: 1.6106 - val_mae: 0.8822\n",
            "Epoch 28/30\n",
            "\u001b[1m219/219\u001b[0m \u001b[32m━━━━━━━━━━━━━━━━━━━━\u001b[0m\u001b[37m\u001b[0m \u001b[1m1s\u001b[0m 4ms/step - loss: 2.6769 - mae: 1.1939 - val_loss: 1.9397 - val_mae: 1.0922\n",
            "Epoch 29/30\n",
            "\u001b[1m219/219\u001b[0m \u001b[32m━━━━━━━━━━━━━━━━━━━━\u001b[0m\u001b[37m\u001b[0m \u001b[1m1s\u001b[0m 2ms/step - loss: 1.6864 - mae: 0.9295 - val_loss: 1.0146 - val_mae: 0.7806\n",
            "Epoch 30/30\n",
            "\u001b[1m219/219\u001b[0m \u001b[32m━━━━━━━━━━━━━━━━━━━━\u001b[0m\u001b[37m\u001b[0m \u001b[1m1s\u001b[0m 2ms/step - loss: 1.9444 - mae: 1.0041 - val_loss: 2.5102 - val_mae: 1.0724\n",
            "\u001b[1m63/63\u001b[0m \u001b[32m━━━━━━━━━━━━━━━━━━━━\u001b[0m\u001b[37m\u001b[0m \u001b[1m0s\u001b[0m 2ms/step\n"
          ]
        },
        {
          "output_type": "display_data",
          "data": {
            "text/plain": [
              "<Figure size 640x480 with 1 Axes>"
            ],
            "image/png": "[encoded data removed]"
          },
          "metadata": {}
        },
        {
          "output_type": "stream",
          "name": "stdout",
          "text": [
            "\u001b[1m63/63\u001b[0m \u001b[32m━━━━━━━━━━━━━━━━━━━━\u001b[0m\u001b[37m\u001b[0m \u001b[1m0s\u001b[0m 2ms/step - loss: 2.9775 - mae: 1.1348\n",
            "Test MSE: 2.8212969303131104\n",
            "Test MAE: 1.1085054874420166\n"
          ]
        }
      ],
      "source": [
        "'''\n",
        "Problem Statement:\n",
        "      > Build a Fully Connected Feedforward Neural Network (FCFNN) for\n",
        "        solving the equation f(x) = 5x^2 +10x -2\n",
        "      > Training the FCFNN\n",
        "      > Plotting original f(x) and predicted f(x)\n",
        "\n",
        "'''\n",
        "\n",
        "#======================= Necessary Imports =========================\n",
        "from tensorflow.keras.layers import Input, Dense, Flatten\n",
        "from tensorflow.keras.models import Model\n",
        "import numpy as np\n",
        "import matplotlib.pyplot as plt\n",
        "\n",
        "\n",
        "#======================= Model Execution Flow =========================\n",
        "def main():\n",
        "  #--- Build model\n",
        "  model = build_model()\n",
        "\n",
        "  #--- Compile model with Adam optimizer and MSE loss\n",
        "  model.compile(optimizer='adam', loss = 'mse' , metrics=['mae'])\n",
        "\n",
        "  #--- Prepare data\n",
        "  (trainX, trainY), (valX, valY), (testX, testY) = prepare_train_val_test()\n",
        "\n",
        "  #--- Train model\n",
        "  history = model.fit(trainX, trainY, validation_data = (valX, valY), epochs = 30)\n",
        "\n",
        "  #--- Predict on test data\n",
        "  y_pred = model.predict(testX)\n",
        "\n",
        "  #--- Plot true vs predicted values\n",
        "  plt.scatter(testX, testY, label=\"True\")\n",
        "  plt.scatter(testX, y_pred, label=\"Predicted\")\n",
        "  plt.legend()\n",
        "  plt.show()\n",
        "\n",
        "  #--- Evaluate model performance on test set\n",
        "  mse, mae = model.evaluate(testX, testY)\n",
        "  print(\"Test MSE:\", mse)\n",
        "  print(\"Test MAE:\", mae)\n",
        "\n",
        "\n",
        "#======================= Model Construction =========================\n",
        "def build_model():\n",
        "\n",
        "  inputs = Input((1,))\n",
        "  h0 = Dense(8, activation='relu')(inputs)\n",
        "  h1 = Dense(16, activation='relu')(h0)\n",
        "  h2 = Dense(64, activation='relu')(h1)\n",
        "  h3 = Dense(16, activation='relu')(h2)\n",
        "  outputs = Dense(1)(h3)\n",
        "\n",
        "  model = Model(inputs, outputs)\n",
        "  model.summary(show_trainable=True)\n",
        "\n",
        "  return model\n",
        "\n",
        "#======================= Polynomial Function  =========================\n",
        "def my_polynomial(x):\n",
        "  y = 5 * x**2 + 10 * x - 2\n",
        "  return y\n",
        "\n",
        "#======================= Data Processing =========================\n",
        "def data_process(n = 100000):\n",
        "\n",
        "  x = np.random.uniform(low = -10, high=10, size=10000)\n",
        "  y = my_polynomial(x)\n",
        "\n",
        "  return x, y\n",
        "\n",
        "#======================= Data Splitting =========================\n",
        "def prepare_train_val_test():\n",
        "\n",
        "  x, y = data_process()\n",
        "  total_n = len(x)\n",
        "  print(x.shape, total_n)\n",
        "  indices = np.random.permutation(total_n)\n",
        "  x, y = x[indices], y[indices]\n",
        "\n",
        "  # Split into train (70%), validation (10%), and test (20%)\n",
        "  train_n = int(total_n * 0.7)\n",
        "  val_n = int(total_n * 0.1)\n",
        "  test_n = int(total_n * 0.2)\n",
        "\n",
        "  trainX = x[: train_n]\n",
        "  trainY = y[: train_n]\n",
        "  valX = x[train_n : train_n + val_n]\n",
        "  valY = y[train_n : train_n + val_n]\n",
        "  testX = x[train_n + val_n :]\n",
        "  testY = y[train_n + val_n :]\n",
        "\n",
        "\n",
        "  print('total_n: {}, train_n: {}, val_n: {}, test_n: {}'.format(len(x), len(trainX), len(valX), len(testX)))\n",
        "\n",
        "  return (trainX, trainY), (valX, valY), (testX, testY)\n",
        "\n",
        "\n",
        "\n",
        "#======================= Entry Point =========================\n",
        "if __name__ == '__main__':\n",
        "  main()\n"
      ]
    }
  ],
  "metadata": {
    "colab": {
      "provenance": [],
      "authorship_tag": "ABX9TyMjPwx24cGDL9WcLzdHd45D",
      "include_colab_link": true
    },
    "kernelspec": {
      "display_name": "Python 3",
      "name": "python3"
    },
    "language_info": {
      "name": "python"
    }
  },
  "nbformat": 4,
  "nbformat_minor": 0
}